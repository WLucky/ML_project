{
 "cells": [
  {
   "cell_type": "markdown",
   "source": [
    "### 纲要\n",
    "- 将数据统一到data2类型 connect\n",
    "- Mean std取data2的\n",
    "- Train val test 比例"
   ],
   "metadata": {}
  },
  {
   "cell_type": "code",
   "execution_count": 70,
   "source": [
    "import pandas as pd\n",
    "import warnings\n",
    "import pickle\n",
    "import datetime\n",
    "warnings.filterwarnings('ignore')"
   ],
   "outputs": [],
   "metadata": {}
  },
  {
   "cell_type": "markdown",
   "source": [
    "### 数据项读取以及预处理\n",
    "- 先将 train_public.csv 另存为 train_public2.csv，并对earlies_credit_mon改成短日期格式 ！！\n",
    "- test_public 同上"
   ],
   "metadata": {}
  },
  {
   "cell_type": "code",
   "execution_count": 71,
   "source": [
    "train_pub = pd.read_csv('./train_public2.csv')\n",
    "test_pub = pd.read_csv('./test_public2.csv')\n",
    "train_internet = pd.read_csv('./train_internet.csv')"
   ],
   "outputs": [],
   "metadata": {}
  },
  {
   "cell_type": "code",
   "execution_count": 72,
   "source": [
    "print(\"##Public index:\")\n",
    "print(train_pub.columns.intersection(train_internet.columns))\n",
    "print(\"##Only in train_pub:\")\n",
    "print(train_pub.columns.difference(train_internet.columns))\n",
    "print(\"##Only in train_internet:\")\n",
    "print(train_internet.columns.difference(train_pub.columns))"
   ],
   "outputs": [
    {
     "output_type": "stream",
     "name": "stdout",
     "text": [
      "##Public index:\n",
      "Index(['loan_id', 'user_id', 'total_loan', 'year_of_loan', 'interest',\n",
      "       'monthly_payment', 'class', 'employer_type', 'industry', 'work_year',\n",
      "       'house_exist', 'censor_status', 'issue_date', 'use', 'post_code',\n",
      "       'region', 'debt_loan_ratio', 'del_in_18month', 'scoring_low',\n",
      "       'scoring_high', 'pub_dero_bankrup', 'recircle_b', 'recircle_u',\n",
      "       'initial_list_status', 'earlies_credit_mon', 'title', 'policy_code',\n",
      "       'f0', 'f1', 'f2', 'f3', 'f4', 'early_return', 'early_return_amount',\n",
      "       'early_return_amount_3mon'],\n",
      "      dtype='object')\n",
      "##Only in train_pub:\n",
      "Index(['app_type', 'isDefault', 'known_dero', 'known_outstanding_loan'], dtype='object')\n",
      "##Only in train_internet:\n",
      "Index(['f5', 'house_loan_status', 'is_default', 'marriage', 'offsprings',\n",
      "       'sub_class', 'work_type'],\n",
      "      dtype='object')\n"
     ]
    }
   ],
   "metadata": {}
  },
  {
   "cell_type": "code",
   "execution_count": 73,
   "source": [
    "# 将短日期格式的 2021/12/1 => 2001-12-01 （这里2021应该是系统自动添加上的，实际为 12/1，即月/年）\n",
    "def format_date(x):\n",
    "    if x>= pd.to_datetime('2021-01-01'):\n",
    "        t = '20' + str(x)[8:10] + '-' + str(x)[5:7] + '-01'\n",
    "        #print('t=', t)\n",
    "        return pd.to_datetime(t)\n",
    "    return x\n",
    "\n",
    "issue_date_base_time = datetime.datetime.strptime('2007-06-01', '%Y-%m-%d')\n",
    "earlies_credit_base_time = datetime.datetime.strptime('1952-06-01', '%Y-%m-%d')\n",
    "# internet_issue_date_base_time = \n",
    "\n",
    "employer_type = train_internet['employer_type'].value_counts().index\n",
    "industry = train_internet['industry'].value_counts().index\n",
    "work_year = train_internet['work_year'].value_counts().index\n",
    "class_index = train_internet['class'].value_counts().index\n",
    "\n",
    "\n",
    "# 标签编码\n",
    "emp_type_dict = dict(zip(employer_type, [i for i in range(len(employer_type))]))\n",
    "industry_dict = dict(zip(industry, [i for i in range(len(industry))]))\n",
    "work_year_dict = dict(zip(work_year, [i for i in range(len(work_year))]))\n",
    "class_dict = dict(zip(class_index, [i for i in range(len(class_index))]))\n",
    "\n",
    "################### train public format ####################\n",
    "train_pub['earlies_credit_mon'] = pd.to_datetime(train_pub['earlies_credit_mon'])\n",
    "train_pub['earlies_credit_mon'] = train_pub['earlies_credit_mon'].apply(format_date)\n",
    "train_pub['issue_date'] = pd.to_datetime(train_pub['issue_date'])\n",
    "train_pub['issue_date_diff'] = train_pub['issue_date'].apply(lambda x: x - issue_date_base_time).dt.days\n",
    "train_pub['earlies_credit_mon_diff'] = train_pub['earlies_credit_mon'].apply(lambda x: x - earlies_credit_base_time).dt.days\n",
    "train_pub['issue_earlies_diff'] = (train_pub['issue_date'] - train_pub['earlies_credit_mon']).dt.days\n",
    "train_pub.drop('issue_date', axis = 1, inplace = True)\n",
    "\n",
    "\n",
    "################### test public format ####################\n",
    "test_pub['earlies_credit_mon'] = pd.to_datetime(test_pub['earlies_credit_mon'])\n",
    "test_pub['earlies_credit_mon'] = test_pub['earlies_credit_mon'].apply(format_date)\n",
    "test_pub['issue_date'] = pd.to_datetime(test_pub['issue_date'])\n",
    "test_pub['issue_date_diff'] = test_pub['issue_date'].apply(lambda x: x - issue_date_base_time).dt.days\n",
    "test_pub['earlies_credit_mon_diff'] = test_pub['earlies_credit_mon'].apply(lambda x: x - earlies_credit_base_time).dt.days\n",
    "test_pub['issue_earlies_diff'] = (test_pub['issue_date'] - test_pub['earlies_credit_mon']).dt.days\n",
    "test_pub.drop('issue_date', axis = 1, inplace = True)\n",
    "\n",
    "################### train internet format ####################\n",
    "train_internet['earlies_credit_mon'] = pd.to_datetime(train_internet['earlies_credit_mon'])\n",
    "train_internet['earlies_credit_mon'] = train_internet['earlies_credit_mon'].apply(format_date)\n",
    "# 因为数据集的特殊性 不可以用标准数据集的base time  需要另行计算\n",
    "internet_earlies_credit_base_time = min(train_internet['earlies_credit_mon'])\n",
    "internet_issue_date_base_time = min(train_internet['issue_date'])\n",
    "\n",
    "train_internet['issue_date'] = pd.to_datetime(train_internet['issue_date'])\n",
    "train_internet['issue_date_diff'] = train_internet['issue_date'].apply(lambda x: x - internet_earlies_credit_base_time).dt.days\n",
    "train_internet['earlies_credit_mon_diff'] = train_internet['earlies_credit_mon'].apply(lambda x: x - internet_earlies_credit_base_time).dt.days\n",
    "train_internet['issue_earlies_diff'] = (train_internet['issue_date'] - train_internet['earlies_credit_mon']).dt.days\n",
    "train_internet.drop('issue_date', axis = 1, inplace = True)\n"
   ],
   "outputs": [],
   "metadata": {}
  },
  {
   "cell_type": "code",
   "execution_count": 74,
   "source": [
    "print(train_pub.shape)\n",
    "print(test_pub.shape)\n",
    "print(train_internet.shape)"
   ],
   "outputs": [
    {
     "output_type": "stream",
     "name": "stdout",
     "text": [
      "(10000, 41)\n",
      "(5000, 40)\n",
      "(750000, 44)\n"
     ]
    }
   ],
   "metadata": {}
  },
  {
   "cell_type": "code",
   "execution_count": 75,
   "source": [
    "common_index = test_pub.columns[2:].intersection(train_internet.columns)\n",
    "only_in_pub_index = test_pub.columns[2:].difference(train_internet.columns)\n",
    "# loan_id  user_id 不用于训练\n",
    "concat_index = test_pub.columns[2:]\n",
    "all_features = pd.concat((train_pub[concat_index], test_pub[concat_index], train_internet[common_index]))\n",
    "\n",
    "all_features['class'] = all_features['class'].map(class_dict)\n",
    "all_features['employer_type'] = all_features['employer_type'].map(emp_type_dict)\n",
    "all_features['industry'] = all_features['industry'].map(industry_dict)\n",
    "all_features['work_year']  = all_features['work_year'].map(work_year_dict)\n",
    "\n",
    "print(all_features.shape)\n"
   ],
   "outputs": [
    {
     "output_type": "stream",
     "name": "stdout",
     "text": [
      "(765000, 38)\n"
     ]
    }
   ],
   "metadata": {}
  },
  {
   "cell_type": "code",
   "execution_count": 76,
   "source": [
    "n_train = train_pub.shape[0]\n",
    "n_test = test_pub.shape[0]\n",
    "n_inter_train = train_internet.shape[0]\n",
    "\n",
    "pub_features = all_features[: -n_inter_train]\n",
    "inter_train_features = all_features[-n_inter_train: ]\n"
   ],
   "outputs": [],
   "metadata": {}
  },
  {
   "cell_type": "code",
   "execution_count": 77,
   "source": [
    "# inter_train_features.duplicated()\n",
    "# 去重\n",
    "# df.drop_duplicates(inplace=True)\n",
    "# 发现没有重复  所以不需要"
   ],
   "outputs": [],
   "metadata": {}
  },
  {
   "cell_type": "code",
   "execution_count": 78,
   "source": [
    "inter_train_features = inter_train_features.apply(\n",
    "    lambda x: (x - x.mean()) / (x.std()))\n",
    "\n",
    "# 标准化后，每个数值特征的均值变为0，所以可以直接用0来替换缺失值\n",
    "inter_train_features = inter_train_features.fillna(0)\n",
    "\n",
    "pub_features = pub_features.apply(\n",
    "    lambda x: (x - x.mean()) / (x.std()))\n",
    "pub_features = pub_features.fillna(0)\n",
    "\n",
    "train_features = pub_features[: n_train]\n",
    "test_features = pub_features[n_train: ]\n",
    "train_labels = train_pub.isDefault\n",
    "inter_train_labels = train_internet.is_default\n",
    "\n",
    "print(train_features.shape)\n",
    "print(test_features.shape)\n",
    "print(inter_train_features.shape)\n",
    "print(train_labels.shape)\n",
    "print(inter_train_labels.shape)\n"
   ],
   "outputs": [
    {
     "output_type": "stream",
     "name": "stdout",
     "text": [
      "(10000, 38)\n",
      "(5000, 38)\n",
      "(750000, 38)\n",
      "(10000,)\n",
      "(750000,)\n"
     ]
    }
   ],
   "metadata": {}
  },
  {
   "cell_type": "code",
   "execution_count": 79,
   "source": [
    "train_features.to_pickle('./train_features.pkl')\n",
    "test_features.to_pickle('./test_features.pkl')\n",
    "inter_train_features.to_pickle('./inter_train_features.pkl')\n",
    "train_labels.to_pickle('./train_labels.pkl')\n",
    "inter_train_labels.to_pickle('./inter_train_labels.pkl')"
   ],
   "outputs": [],
   "metadata": {}
  }
 ],
 "metadata": {
  "orig_nbformat": 4,
  "language_info": {
   "name": "python",
   "version": "3.9.7",
   "mimetype": "text/x-python",
   "codemirror_mode": {
    "name": "ipython",
    "version": 3
   },
   "pygments_lexer": "ipython3",
   "nbconvert_exporter": "python",
   "file_extension": ".py"
  },
  "kernelspec": {
   "name": "python3",
   "display_name": "Python 3.9.7 64-bit ('wpj': conda)"
  },
  "interpreter": {
   "hash": "77f05d458a4bc12cf45d579f45eb59c56f9d2d4792ff7ef93daf065de5187a5f"
  }
 },
 "nbformat": 4,
 "nbformat_minor": 2
}